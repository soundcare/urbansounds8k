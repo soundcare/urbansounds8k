{
 "cells": [
  {
   "cell_type": "code",
   "execution_count": 7,
   "metadata": {},
   "outputs": [],
   "source": [
    "import os\n",
    "import pandas as pd\n",
    "from os import listdir\n",
    "from os.path import isfile, join"
   ]
  },
  {
   "cell_type": "code",
   "execution_count": 3,
   "metadata": {},
   "outputs": [
    {
     "data": {
      "text/plain": [
       "[1, 2, 3, 4, 5, 6, 7, 8, 9, 10]"
      ]
     },
     "execution_count": 3,
     "metadata": {},
     "output_type": "execute_result"
    }
   ],
   "source": [
    "folds = [x+1 for x in range(10)]\n",
    "folds"
   ]
  },
  {
   "cell_type": "code",
   "execution_count": 4,
   "metadata": {},
   "outputs": [],
   "source": [
    "classes = ['air_conditioner','car_horn','children_playing',\n",
    "'dog_bark','drilling','engine_idling','gun_shot','jackhammer',\n",
    "'siren','street_music']"
   ]
  },
  {
   "cell_type": "code",
   "execution_count": 5,
   "metadata": {},
   "outputs": [],
   "source": [
    "target_file = \"/media/romulo/6237-3231/urban_sound_challenge/spectrograms_128_array/location_mapping.csv\""
   ]
  },
  {
   "cell_type": "code",
   "execution_count": 6,
   "metadata": {},
   "outputs": [],
   "source": [
    "parent_folder = \"/media/romulo/6237-3231/urban_sound_challenge/spectrograms_128_array/\""
   ]
  },
  {
   "cell_type": "code",
   "execution_count": 13,
   "metadata": {},
   "outputs": [],
   "source": [
    "class_map = {'air_conditioner':\t0,\n",
    "'car_horn'\t:1,\n",
    "'children_playing'\t:2,\n",
    "'dog_bark'\t:3,\n",
    "'drilling'\t:4,\n",
    "'engine_idling':\t5,\n",
    "'gun_shot':\t6,\n",
    "'jackhammer':\t7,\n",
    "'siren'\t:8,\n",
    "'street_music'\t:9}\n"
   ]
  },
  {
   "cell_type": "code",
   "execution_count": 16,
   "metadata": {},
   "outputs": [],
   "source": [
    "metadata = []\n",
    "for fold in folds:\n",
    "    for cl in classes:\n",
    "        path = \"{}fold{}/{}\".format(parent_folder, fold, cl)\n",
    "        filenames = [f for f in listdir(path) if isfile(join(path, f))]\n",
    "        for filen in filenames:\n",
    "            metadata.append({'fsID' : filen.split('.')[0],\n",
    "             'location' : \"{}/{}\".format(path, filen),\n",
    "             'classID' : class_map[cl],\n",
    "            'fold':fold})"
   ]
  },
  {
   "cell_type": "code",
   "execution_count": 18,
   "metadata": {},
   "outputs": [],
   "source": [
    "metadata_df = pd.DataFrame(metadata)"
   ]
  },
  {
   "cell_type": "code",
   "execution_count": 19,
   "metadata": {},
   "outputs": [],
   "source": [
    "metadata_df.to_csv(target_file)"
   ]
  }
 ],
 "metadata": {
  "kernelspec": {
   "display_name": "Python 3",
   "language": "python",
   "name": "python3"
  },
  "language_info": {
   "codemirror_mode": {
    "name": "ipython",
    "version": 3
   },
   "file_extension": ".py",
   "mimetype": "text/x-python",
   "name": "python",
   "nbconvert_exporter": "python",
   "pygments_lexer": "ipython3",
   "version": "3.6.7"
  }
 },
 "nbformat": 4,
 "nbformat_minor": 4
}
