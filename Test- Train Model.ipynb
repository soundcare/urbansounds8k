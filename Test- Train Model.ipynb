{
 "cells": [
  {
   "cell_type": "code",
   "execution_count": 1,
   "metadata": {},
   "outputs": [],
   "source": [
    "%load_ext autoreload\n",
    "%autoreload 2"
   ]
  },
  {
   "cell_type": "code",
   "execution_count": 2,
   "metadata": {},
   "outputs": [],
   "source": [
    "from sklearn.metrics import confusion_matrix, classification_report"
   ]
  },
  {
   "cell_type": "code",
   "execution_count": 3,
   "metadata": {},
   "outputs": [
    {
     "name": "stderr",
     "output_type": "stream",
     "text": [
      "Using TensorFlow backend.\n"
     ]
    }
   ],
   "source": [
    "\"\"\"\n",
    "INCOMPLETE, NOT READY TO BE RUN\n",
    "\"\"\"\n",
    "import numpy as np\n",
    "import pandas as pd\n",
    "from keras.models import Sequential\n",
    "from keras.layers import Dense, Input, Flatten, Reshape, Conv2D, Dropout, MaxPooling2D\n",
    "from keras.callbacks import ModelCheckpoint\n",
    "from keras import regularizers\n",
    "from keras.optimizers import Adam\n",
    "from modeling_utils import NumpyDataGenerator\n",
    "\n",
    "# Parameters\n",
    "\n",
    "def train_model(metadata_location,\n",
    "                model_architecture = None,\n",
    "                data_dim=(128,128),\n",
    "                batch_size=64,\n",
    "                n_classes=10,\n",
    "                training_folds = [10,2,3,4,5,6,7,8,9],\n",
    "                validation_folds = [1],\n",
    "                shuffle=True):\n",
    "    \"\"\"\n",
    "    \"\"\"\n",
    "    params = {'dim': data_dim,\n",
    "              'batch_size': batch_size,\n",
    "              'n_classes': n_classes,\n",
    "              'shuffle': shuffle}\n",
    "\n",
    "    # Datasets\n",
    "    metadata = pd.read_csv(metadata_location)\n",
    "    if shuffle:\n",
    "        metadata = metadata.sample(frac=1).reset_index()\n",
    "    id_to_file_mapping = dict(zip(metadata['fsID'],metadata['location']))\n",
    "    labels = dict(zip(metadata['fsID'],metadata['classID']))\n",
    "    train_data = metadata[metadata['fold'].isin(training_folds)].reset_index()\n",
    "    test_data = metadata[metadata['fold'].isin(validation_folds)].reset_index()\n",
    "    # Generators\n",
    "    training_generator = NumpyDataGenerator(pd.Series(train_data['fsID']), labels,id_to_file_mapping, **params)\n",
    "    validation_generator = NumpyDataGenerator(pd.Series(test_data['fsID']),labels, id_to_file_mapping, **params)\n",
    "\n",
    "    # Design model\n",
    "    model = Sequential()\n",
    "    model.add(Conv2D(24, (5,5),\n",
    "                        data_format='channels_last',\n",
    "                        activation='relu',input_shape=(128,128,1)))\n",
    "    model.add(MaxPooling2D(pool_size=(2, 2)))\n",
    "    model.add(Conv2D(48, (5,5),activation='relu'))\n",
    "    model.add(MaxPooling2D(pool_size=(2, 2)))\n",
    "    model.add(Conv2D(48, (5,5),activation='relu'))\n",
    "    model.add(Flatten())\n",
    "    model.add(Dropout(0.5))\n",
    "    model.add(Dense(64, activation='relu',\n",
    "                   kernel_regularizer=regularizers.l2(0.001)))\n",
    "    model.add(Dense(10, activation='softmax',\n",
    "                   kernel_regularizer=regularizers.l2(0.001)))\n",
    "    model.compile(loss='categorical_crossentropy', optimizer=Adam(lr=0.01), metrics=['accuracy'])\n",
    "    print(model.summary())\n",
    "    # Train model on dataset\n",
    "    steps_per_epoch = np.ceil(len(metadata) / batch_size)\n",
    "    validation_steps = np.ceil(len(list(test_data['classID']))/batch_size)\n",
    "    # checkpoint\n",
    "    filepath=\"./keras_checkpoints/weights-improvement-{epoch:02d}-{val_acc:.2f}.hdf5\"\n",
    "    checkpoint = ModelCheckpoint(filepath, monitor='val_acc', verbose=1, save_best_only=True, mode='max')\n",
    "    callbacks_list = [checkpoint]\n",
    "    model.fit_generator(generator=training_generator,\n",
    "                        validation_data=validation_generator,\n",
    "                        use_multiprocessing=True,\n",
    "                        workers=6,\n",
    "                        verbose=1,\n",
    "                        steps_per_epoch=steps_per_epoch,\n",
    "                        validation_steps=validation_steps,\n",
    "                        epochs=5,\n",
    "                        callbacks=callbacks_list,\n",
    "                        shuffle=True\n",
    "                       )\n",
    "    #Validate\n",
    "    validation_generator_2 = NumpyDataGenerator(list(test_data['fsID']), labels, id_to_file_mapping, **params)\n",
    "    \n",
    "    predictions = model.predict_generator(validation_generator_2,\n",
    "                                      steps = validation_steps,\n",
    "                                      verbose=True)\n",
    "    y_pred = np.argmax(predictions, axis=1)\n",
    "    print('Confusion Matrix')\n",
    "    cm = confusion_matrix(list(test_data['classID']), y_pred[:len(list(test_data['classID']))])\n",
    "    print(cm)\n",
    "    print(np.unique(np.array(y_pred), return_counts=True))\n",
    "    print(np.unique(np.array(test_data['classID']), return_counts=True))"
   ]
  },
  {
   "cell_type": "code",
   "execution_count": null,
   "metadata": {},
   "outputs": [],
   "source": []
  },
  {
   "cell_type": "code",
   "execution_count": 4,
   "metadata": {},
   "outputs": [],
   "source": [
    "metadata_file = \"/media/romulo/6237-3231/urban_sound_challenge/spectrograms_128_array/location_mapping.csv\""
   ]
  },
  {
   "cell_type": "code",
   "execution_count": null,
   "metadata": {},
   "outputs": [
    {
     "name": "stderr",
     "output_type": "stream",
     "text": [
      "WARNING: Logging before flag parsing goes to stderr.\n",
      "W0717 21:50:02.063309 139827711186752 deprecation_wrapper.py:119] From /home/romulo/github/pyvenv/urbansounds8k/lib/python3.6/site-packages/keras/backend/tensorflow_backend.py:74: The name tf.get_default_graph is deprecated. Please use tf.compat.v1.get_default_graph instead.\n",
      "\n",
      "W0717 21:50:02.077436 139827711186752 deprecation_wrapper.py:119] From /home/romulo/github/pyvenv/urbansounds8k/lib/python3.6/site-packages/keras/backend/tensorflow_backend.py:517: The name tf.placeholder is deprecated. Please use tf.compat.v1.placeholder instead.\n",
      "\n",
      "W0717 21:50:02.080742 139827711186752 deprecation_wrapper.py:119] From /home/romulo/github/pyvenv/urbansounds8k/lib/python3.6/site-packages/keras/backend/tensorflow_backend.py:4138: The name tf.random_uniform is deprecated. Please use tf.random.uniform instead.\n",
      "\n",
      "W0717 21:50:02.099040 139827711186752 deprecation_wrapper.py:119] From /home/romulo/github/pyvenv/urbansounds8k/lib/python3.6/site-packages/keras/backend/tensorflow_backend.py:3976: The name tf.nn.max_pool is deprecated. Please use tf.nn.max_pool2d instead.\n",
      "\n",
      "W0717 21:50:02.139441 139827711186752 deprecation_wrapper.py:119] From /home/romulo/github/pyvenv/urbansounds8k/lib/python3.6/site-packages/keras/backend/tensorflow_backend.py:133: The name tf.placeholder_with_default is deprecated. Please use tf.compat.v1.placeholder_with_default instead.\n",
      "\n",
      "W0717 21:50:02.145601 139827711186752 deprecation.py:506] From /home/romulo/github/pyvenv/urbansounds8k/lib/python3.6/site-packages/keras/backend/tensorflow_backend.py:3445: calling dropout (from tensorflow.python.ops.nn_ops) with keep_prob is deprecated and will be removed in a future version.\n",
      "Instructions for updating:\n",
      "Please use `rate` instead of `keep_prob`. Rate should be set to `rate = 1 - keep_prob`.\n",
      "W0717 21:50:02.198777 139827711186752 deprecation_wrapper.py:119] From /home/romulo/github/pyvenv/urbansounds8k/lib/python3.6/site-packages/keras/optimizers.py:790: The name tf.train.Optimizer is deprecated. Please use tf.compat.v1.train.Optimizer instead.\n",
      "\n",
      "W0717 21:50:02.204341 139827711186752 deprecation_wrapper.py:119] From /home/romulo/github/pyvenv/urbansounds8k/lib/python3.6/site-packages/keras/backend/tensorflow_backend.py:3295: The name tf.log is deprecated. Please use tf.math.log instead.\n",
      "\n",
      "W0717 21:50:02.309273 139827711186752 deprecation.py:323] From /home/romulo/github/pyvenv/urbansounds8k/lib/python3.6/site-packages/tensorflow/python/ops/math_grad.py:1250: add_dispatch_support.<locals>.wrapper (from tensorflow.python.ops.array_ops) is deprecated and will be removed in a future version.\n",
      "Instructions for updating:\n",
      "Use tf.where in 2.0, which has the same broadcast rule as np.where\n"
     ]
    },
    {
     "name": "stdout",
     "output_type": "stream",
     "text": [
      "_________________________________________________________________\n",
      "Layer (type)                 Output Shape              Param #   \n",
      "=================================================================\n",
      "conv2d_1 (Conv2D)            (None, 124, 124, 24)      624       \n",
      "_________________________________________________________________\n",
      "max_pooling2d_1 (MaxPooling2 (None, 62, 62, 24)        0         \n",
      "_________________________________________________________________\n",
      "conv2d_2 (Conv2D)            (None, 58, 58, 48)        28848     \n",
      "_________________________________________________________________\n",
      "max_pooling2d_2 (MaxPooling2 (None, 29, 29, 48)        0         \n",
      "_________________________________________________________________\n",
      "conv2d_3 (Conv2D)            (None, 25, 25, 48)        57648     \n",
      "_________________________________________________________________\n",
      "flatten_1 (Flatten)          (None, 30000)             0         \n",
      "_________________________________________________________________\n",
      "dropout_1 (Dropout)          (None, 30000)             0         \n",
      "_________________________________________________________________\n",
      "dense_1 (Dense)              (None, 64)                1920064   \n",
      "_________________________________________________________________\n",
      "dense_2 (Dense)              (None, 10)                650       \n",
      "=================================================================\n",
      "Total params: 2,007,834\n",
      "Trainable params: 2,007,834\n",
      "Non-trainable params: 0\n",
      "_________________________________________________________________\n",
      "None\n",
      "Epoch 1/5\n",
      "148/986 [===>..........................] - ETA: 10:48 - loss: 16.5689 - acc: 0.1120"
     ]
    }
   ],
   "source": [
    "train_model(metadata_file)"
   ]
  },
  {
   "cell_type": "code",
   "execution_count": null,
   "metadata": {},
   "outputs": [],
   "source": []
  }
 ],
 "metadata": {
  "kernelspec": {
   "display_name": "Python 3",
   "language": "python",
   "name": "python3"
  },
  "language_info": {
   "codemirror_mode": {
    "name": "ipython",
    "version": 3
   },
   "file_extension": ".py",
   "mimetype": "text/x-python",
   "name": "python",
   "nbconvert_exporter": "python",
   "pygments_lexer": "ipython3",
   "version": "3.6.7"
  }
 },
 "nbformat": 4,
 "nbformat_minor": 4
}
