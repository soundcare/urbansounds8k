{
 "cells": [
  {
   "cell_type": "code",
   "execution_count": 1,
   "metadata": {},
   "outputs": [],
   "source": [
    "from sklearn.metrics import confusion_matrix, classification_report"
   ]
  },
  {
   "cell_type": "code",
   "execution_count": 5,
   "metadata": {},
   "outputs": [],
   "source": [
    "\"\"\"\n",
    "INCOMPLETE, NOT READY TO BE RUN\n",
    "\"\"\"\n",
    "import numpy as np\n",
    "import pandas as pd\n",
    "from keras.models import Sequential\n",
    "from keras.layers import Dense, Input, Flatten\n",
    "from modeling_utils import NumpyDataGenerator\n",
    "\n",
    "\n",
    "# Parameters\n",
    "\n",
    "def train_model(metadata_location,\n",
    "                model_architecture = None,\n",
    "                data_dim=(128,128),\n",
    "                batch_size=24,\n",
    "                n_classes=10,\n",
    "                training_folds = [10,2,3,4,5,6,7,8,9],\n",
    "                validation_folds = [1],\n",
    "                shuffle=True):\n",
    "    \"\"\"\n",
    "    \"\"\"\n",
    "    params = {'dim': data_dim,\n",
    "              'batch_size': batch_size,\n",
    "              'n_classes': n_classes,\n",
    "              'shuffle': shuffle}\n",
    "\n",
    "    # Datasets\n",
    "    metadata = pd.read_csv(metadata_location)\n",
    "    if shuffle:\n",
    "        metadata = metadata.sample(frac=1)\n",
    "    id_to_file_mapping = dict(zip(metadata['fsID'],metadata['location']))\n",
    "    train_data = metadata[metadata['fold'].isin(training_folds)]\n",
    "    test_data = metadata[metadata['fold'].isin(validation_folds)]\n",
    "    # Generators\n",
    "    training_generator = NumpyDataGenerator(list(train_data['fsID']), list(train_data['classID']),id_to_file_mapping, **params)\n",
    "    validation_generator = NumpyDataGenerator(list(test_data['fsID']), list(test_data['classID']), id_to_file_mapping, **params)\n",
    "\n",
    "    # Design model\n",
    "    model = Sequential()\n",
    "    model.add(Dense(12, input_shape=(batch_size,128,128), activation='relu',name='main_input'))\n",
    "    model.add(Dense(8, activation='relu',name='middle_layer'))\n",
    "    model.add(Flatten())\n",
    "    model.add(Dense(n_classes, activation='sigmoid',name='classifier'))\n",
    "    model.compile(loss='binary_crossentropy', optimizer='adam', metrics=['accuracy'])\n",
    "    print(model.summary())\n",
    "    # Train model on dataset\n",
    "    steps_per_epoch = np.ceil(len(metadata) / batch_size)\n",
    "    validation_steps = np.ceil(len(list(test_data['classID']))/batch_size)\n",
    "    model.fit_generator(generator=training_generator,\n",
    "                        validation_data=validation_generator,\n",
    "                        use_multiprocessing=True,\n",
    "                        workers=6,\n",
    "                        verbose=1,\n",
    "                        steps_per_epoch=steps_per_epoch,\n",
    "                        validation_steps=validation_steps,\n",
    "                        epochs=1,\n",
    "                        shuffle=True\n",
    "                       )\n",
    "    #Validate\n",
    "    validation_generator_2 = NumpyDataGenerator(list(test_data['fsID']), list(test_data['classID']), id_to_file_mapping, **params)\n",
    "    \n",
    "    predictions = model.predict_generator(validation_generator_2,\n",
    "                                      steps = validation_steps,\n",
    "                                      verbose=True)\n",
    "    y_pred = np.argmax(predictions, axis=1)\n",
    "    print('Confusion Matrix')\n",
    "    cm = confusion_matrix(list(test_data['classID']), y_pred[:len(list(test_data['classID']))])\n",
    "    print(cm)\n",
    "    print(np.unique(np.array(y_pred), return_counts=True))\n",
    "    print(np.unique(np.array(test_data['classID']), return_counts=True))\n",
    "    return y_pred, test_data['classID']"
   ]
  },
  {
   "cell_type": "code",
   "execution_count": 6,
   "metadata": {},
   "outputs": [],
   "source": [
    "metadata_file = \"/media/romulo/6237-3231/urban_sound_challenge/spectrograms_128_array/location_mapping.csv\""
   ]
  },
  {
   "cell_type": "code",
   "execution_count": 7,
   "metadata": {},
   "outputs": [
    {
     "ename": "TypeError",
     "evalue": "The added layer must be an instance of class Layer. Found: Tensor(\"input_1:0\", shape=(24, 128, 128), dtype=float32)",
     "output_type": "error",
     "traceback": [
      "\u001b[0;31m---------------------------------------------------------------------------\u001b[0m",
      "\u001b[0;31mTypeError\u001b[0m                                 Traceback (most recent call last)",
      "\u001b[0;32m<ipython-input-7-c25ef01cd861>\u001b[0m in \u001b[0;36m<module>\u001b[0;34m\u001b[0m\n\u001b[0;32m----> 1\u001b[0;31m \u001b[0mtrain_model\u001b[0m\u001b[0;34m(\u001b[0m\u001b[0mmetadata_file\u001b[0m\u001b[0;34m)\u001b[0m\u001b[0;34m\u001b[0m\u001b[0;34m\u001b[0m\u001b[0m\n\u001b[0m",
      "\u001b[0;32m<ipython-input-5-eb8c940329e4>\u001b[0m in \u001b[0;36mtrain_model\u001b[0;34m(metadata_location, model_architecture, data_dim, batch_size, n_classes, training_folds, validation_folds, shuffle)\u001b[0m\n\u001b[1;32m     39\u001b[0m     \u001b[0;31m# Design model\u001b[0m\u001b[0;34m\u001b[0m\u001b[0;34m\u001b[0m\u001b[0;34m\u001b[0m\u001b[0m\n\u001b[1;32m     40\u001b[0m     \u001b[0mmodel\u001b[0m \u001b[0;34m=\u001b[0m \u001b[0mSequential\u001b[0m\u001b[0;34m(\u001b[0m\u001b[0;34m)\u001b[0m\u001b[0;34m\u001b[0m\u001b[0;34m\u001b[0m\u001b[0m\n\u001b[0;32m---> 41\u001b[0;31m     \u001b[0mmodel\u001b[0m\u001b[0;34m.\u001b[0m\u001b[0madd\u001b[0m\u001b[0;34m(\u001b[0m\u001b[0mInput\u001b[0m\u001b[0;34m(\u001b[0m\u001b[0mbatch_shape\u001b[0m\u001b[0;34m=\u001b[0m\u001b[0;34m(\u001b[0m\u001b[0mbatch_size\u001b[0m\u001b[0;34m,\u001b[0m\u001b[0;36m128\u001b[0m\u001b[0;34m,\u001b[0m\u001b[0;36m128\u001b[0m\u001b[0;34m)\u001b[0m\u001b[0;34m)\u001b[0m\u001b[0;34m)\u001b[0m\u001b[0;34m\u001b[0m\u001b[0;34m\u001b[0m\u001b[0m\n\u001b[0m\u001b[1;32m     42\u001b[0m     \u001b[0mmodel\u001b[0m\u001b[0;34m.\u001b[0m\u001b[0madd\u001b[0m\u001b[0;34m(\u001b[0m\u001b[0mFlatten\u001b[0m\u001b[0;34m(\u001b[0m\u001b[0;34m)\u001b[0m\u001b[0;34m)\u001b[0m\u001b[0;34m\u001b[0m\u001b[0;34m\u001b[0m\u001b[0m\n\u001b[1;32m     43\u001b[0m     \u001b[0mmodel\u001b[0m\u001b[0;34m.\u001b[0m\u001b[0madd\u001b[0m\u001b[0;34m(\u001b[0m\u001b[0mDense\u001b[0m\u001b[0;34m(\u001b[0m\u001b[0;36m12\u001b[0m\u001b[0;34m,\u001b[0m\u001b[0mactivation\u001b[0m\u001b[0;34m=\u001b[0m\u001b[0;34m'relu'\u001b[0m\u001b[0;34m,\u001b[0m\u001b[0mname\u001b[0m\u001b[0;34m=\u001b[0m\u001b[0;34m'main_input'\u001b[0m\u001b[0;34m)\u001b[0m\u001b[0;34m)\u001b[0m\u001b[0;34m\u001b[0m\u001b[0;34m\u001b[0m\u001b[0m\n",
      "\u001b[0;32m~/github/pyvenv/urbansounds8k/lib/python3.6/site-packages/keras/engine/sequential.py\u001b[0m in \u001b[0;36madd\u001b[0;34m(self, layer)\u001b[0m\n\u001b[1;32m    130\u001b[0m             raise TypeError('The added layer must be '\n\u001b[1;32m    131\u001b[0m                             \u001b[0;34m'an instance of class Layer. '\u001b[0m\u001b[0;34m\u001b[0m\u001b[0;34m\u001b[0m\u001b[0m\n\u001b[0;32m--> 132\u001b[0;31m                             'Found: ' + str(layer))\n\u001b[0m\u001b[1;32m    133\u001b[0m         \u001b[0mself\u001b[0m\u001b[0;34m.\u001b[0m\u001b[0mbuilt\u001b[0m \u001b[0;34m=\u001b[0m \u001b[0;32mFalse\u001b[0m\u001b[0;34m\u001b[0m\u001b[0;34m\u001b[0m\u001b[0m\n\u001b[1;32m    134\u001b[0m         \u001b[0;32mif\u001b[0m \u001b[0;32mnot\u001b[0m \u001b[0mself\u001b[0m\u001b[0;34m.\u001b[0m\u001b[0m_layers\u001b[0m\u001b[0;34m:\u001b[0m\u001b[0;34m\u001b[0m\u001b[0;34m\u001b[0m\u001b[0m\n",
      "\u001b[0;31mTypeError\u001b[0m: The added layer must be an instance of class Layer. Found: Tensor(\"input_1:0\", shape=(24, 128, 128), dtype=float32)"
     ]
    }
   ],
   "source": [
    "train_model(metadata_file)"
   ]
  },
  {
   "cell_type": "code",
   "execution_count": null,
   "metadata": {},
   "outputs": [],
   "source": []
  }
 ],
 "metadata": {
  "kernelspec": {
   "display_name": "Python 3",
   "language": "python",
   "name": "python3"
  },
  "language_info": {
   "codemirror_mode": {
    "name": "ipython",
    "version": 3
   },
   "file_extension": ".py",
   "mimetype": "text/x-python",
   "name": "python",
   "nbconvert_exporter": "python",
   "pygments_lexer": "ipython3",
   "version": "3.6.7"
  }
 },
 "nbformat": 4,
 "nbformat_minor": 4
}
